{
 "cells": [
  {
   "cell_type": "code",
   "execution_count": null,
   "id": "0814775b-6da1-40b3-a542-20ba65b60039",
   "metadata": {
    "tags": []
   },
   "outputs": [],
   "source": [
    "from pathlib import Path\n",
    "\n",
    "from pynwb import NWBHDF5IO\n",
    "from hdmf_zarr import NWBZarrIO\n",
    "from nwbwidgets import nwb2widget"
   ]
  },
  {
   "cell_type": "code",
   "execution_count": null,
   "id": "638f7867-21dd-4c6f-b6b3-2d7597e2e680",
   "metadata": {
    "tags": []
   },
   "outputs": [],
   "source": [
    "%matplotlib widget"
   ]
  },
  {
   "cell_type": "code",
   "execution_count": null,
   "id": "22f2232f-b624-4bdc-afd6-d730a7893fb2",
   "metadata": {
    "tags": []
   },
   "outputs": [],
   "source": [
    "results_path = Path(\"../results/\")"
   ]
  },
  {
   "cell_type": "code",
   "execution_count": null,
   "id": "b20b3ea2-8c2b-4d1f-afd1-3832b4dcac82",
   "metadata": {
    "tags": []
   },
   "outputs": [],
   "source": [
    "nwbfile_paths = [p for p in results_path.iterdir() if \".nwb\" in p.suffixes]"
   ]
  },
  {
   "cell_type": "code",
   "execution_count": null,
   "id": "592b5be4-07a2-470f-ab95-9c0a2da6e4c8",
   "metadata": {
    "tags": []
   },
   "outputs": [],
   "source": [
    "nwbfile_path = nwbfile_paths[0]"
   ]
  },
  {
   "cell_type": "code",
   "execution_count": null,
   "id": "93f82f8d-39b4-4988-b715-969b64756a19",
   "metadata": {
    "tags": []
   },
   "outputs": [],
   "source": [
    "if nwbfile_path.is_dir():\n",
    "    io = NWBZarrIO(str(nwbfile_path), \"r\")\n",
    "else:\n",
    "    io = NWBHDF5IO(str(nwbfile_path), \"r\")\n",
    "nwbfile = io.read()"
   ]
  },
  {
   "cell_type": "code",
   "execution_count": null,
   "id": "e0d154f4-b239-48c3-b1a8-56a4d511492d",
   "metadata": {
    "tags": []
   },
   "outputs": [],
   "source": [
    "nwb2widget(nwbfile)"
   ]
  },
  {
   "cell_type": "code",
   "execution_count": null,
   "id": "3d7803a5-9b7c-4a3e-98dc-1ce92c781930",
   "metadata": {
    "tags": []
   },
   "outputs": [],
   "source": [
    "lfpA = nwbfile.processing[\"ecephys\"].data_interfaces[\"LFP\"][\"ElectricalSeriesProbeA-LFP\"]\n",
    "lfpA.electrodes.to_dataframe()[[\"channel_name\", \"group_name\"]]"
   ]
  },
  {
   "cell_type": "code",
   "execution_count": null,
   "id": "e7409d03-42ec-43dd-8780-43ebcdcd4bdd",
   "metadata": {
    "tags": []
   },
   "outputs": [],
   "source": [
    "lfpB = nwbfile.processing[\"ecephys\"].data_interfaces[\"LFP\"][\"ElectricalSeriesProbeB-LFP\"]\n",
    "lfpB.electrodes.to_dataframe()[[\"channel_name\", \"group_name\"]]"
   ]
  }
 ],
 "metadata": {
  "kernelspec": {
   "display_name": "Python 3 (ipykernel)",
   "language": "python",
   "name": "python3"
  },
  "language_info": {
   "codemirror_mode": {
    "name": "ipython",
    "version": 3
   },
   "file_extension": ".py",
   "mimetype": "text/x-python",
   "name": "python",
   "nbconvert_exporter": "python",
   "pygments_lexer": "ipython3",
   "version": "3.9.12"
  }
 },
 "nbformat": 4,
 "nbformat_minor": 5
}
