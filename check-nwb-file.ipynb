{
 "cells": [
  {
   "cell_type": "code",
   "execution_count": null,
   "id": "0814775b-6da1-40b3-a542-20ba65b60039",
   "metadata": {
    "tags": []
   },
   "outputs": [],
   "source": [
    "from pathlib import Path\n",
    "\n",
    "from pynwb import NWBHDF5IO\n",
    "from nwbwidgets import nwb2widget"
   ]
  },
  {
   "cell_type": "code",
   "execution_count": null,
   "id": "b20b3ea2-8c2b-4d1f-afd1-3832b4dcac82",
   "metadata": {
    "tags": []
   },
   "outputs": [],
   "source": [
    "nwbfile_path = \"results/ecephys_676909_2023-12-11_14-24-35_experiment1_stub.nwb\""
   ]
  },
  {
   "cell_type": "code",
   "execution_count": null,
   "id": "93f82f8d-39b4-4988-b715-969b64756a19",
   "metadata": {
    "tags": []
   },
   "outputs": [],
   "source": [
    "io = NWBHDF5IO(nwbfile_path, \"r\")\n",
    "nwbfile = io.read()"
   ]
  },
  {
   "cell_type": "code",
   "execution_count": null,
   "id": "463c1030-455c-4aca-abc4-f262311b1b23",
   "metadata": {
    "tags": []
   },
   "outputs": [],
   "source": [
    "nwb2widget(nwbfile)"
   ]
  },
  {
   "cell_type": "code",
   "execution_count": null,
   "id": "8559edd2-c79a-4f13-9a88-117c5fd2ec66",
   "metadata": {
    "tags": []
   },
   "outputs": [],
   "source": [
    "rec = se.read_nwb_recording(nwbfile_path, electrical_series_name='ElectricalSeriesProbeA')"
   ]
  },
  {
   "cell_type": "code",
   "execution_count": null,
   "id": "d1b11dc8-496d-4625-941c-2bad0a384b0e",
   "metadata": {
    "tags": []
   },
   "outputs": [],
   "source": [
    "sw.plot_traces(rec, backend=\"ipywidgets\")"
   ]
  },
  {
   "cell_type": "code",
   "execution_count": null,
   "id": "a118c495-cb74-407d-b178-91da64f9920d",
   "metadata": {},
   "outputs": [],
   "source": [
    "nwbfile."
   ]
  }
 ],
 "metadata": {
  "kernelspec": {
   "display_name": "Python 3 (ipykernel)",
   "language": "python",
   "name": "python3"
  },
  "language_info": {
   "codemirror_mode": {
    "name": "ipython",
    "version": 3
   },
   "file_extension": ".py",
   "mimetype": "text/x-python",
   "name": "python",
   "nbconvert_exporter": "python",
   "pygments_lexer": "ipython3",
   "version": "3.9.12"
  }
 },
 "nbformat": 4,
 "nbformat_minor": 5
}
